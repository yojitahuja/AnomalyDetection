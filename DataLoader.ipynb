{
 "cells": [
  {
   "cell_type": "markdown",
   "metadata": {},
   "source": [
    "THIS FILE LOADS THE DATA AND PRE PROCESSES IT \n",
    "BY DROPPING DUPLICATES, INTERPOLATING, STANDARDIZING AND CONVERTING TO EXCEL "
   ]
  },
  {
   "cell_type": "code",
   "execution_count": 1,
   "metadata": {},
   "outputs": [],
   "source": [
    "import pandas as pd \n",
    "import numpy as np \n",
    "import matplotlib.pyplot as plt\n",
    "# from statsmodels.tsa.seasonal import seasonal_decompose \n",
    "# import seaborn as sns\n",
    "from sklearn.preprocessing import MinMaxScaler"
   ]
  },
  {
   "cell_type": "code",
   "execution_count": null,
   "metadata": {},
   "outputs": [],
   "source": [
    "def cleaned_df(df):\n",
    "    \n",
    "    df = df.drop_duplicates(keep='first')\n",
    "    df = df.apply(pd.to_numeric, errors = 'coerce')\n",
    "\n",
    "    df.interpolate(method = 'time', inplace = True )\n",
    "    \n",
    "    scaler = MinMaxScaler()\n",
    "    df[df.columns] = scaler.fit_transform(df)\n",
    "    \n",
    "    df.to_excel('cleaned_data.xlsx')\n",
    "\n",
    "    return df"
   ]
  },
  {
   "cell_type": "code",
   "execution_count": 3,
   "metadata": {},
   "outputs": [
    {
     "name": "stderr",
     "output_type": "stream",
     "text": [
      "c:\\Users\\hp\\AppData\\Local\\Programs\\Python\\Python312\\Lib\\site-packages\\openpyxl\\worksheet\\_reader.py:329: UserWarning: Unknown extension is not supported and will be removed\n",
      "  warn(msg)\n"
     ]
    }
   ],
   "source": [
    "data = pd.read_excel(\"data.xlsx\", index_col=\"time\")\n",
    "data = cleaned_df(data)\n"
   ]
  },
  {
   "cell_type": "code",
   "execution_count": 5,
   "metadata": {},
   "outputs": [
    {
     "data": {
      "text/html": [
       "<div>\n",
       "<style scoped>\n",
       "    .dataframe tbody tr th:only-of-type {\n",
       "        vertical-align: middle;\n",
       "    }\n",
       "\n",
       "    .dataframe tbody tr th {\n",
       "        vertical-align: top;\n",
       "    }\n",
       "\n",
       "    .dataframe thead th {\n",
       "        text-align: right;\n",
       "    }\n",
       "</style>\n",
       "<table border=\"1\" class=\"dataframe\">\n",
       "  <thead>\n",
       "    <tr style=\"text-align: right;\">\n",
       "      <th></th>\n",
       "      <th>Cyclone_Inlet_Gas_Temp</th>\n",
       "      <th>Cyclone_Material_Temp</th>\n",
       "      <th>Cyclone_Outlet_Gas_draft</th>\n",
       "      <th>Cyclone_cone_draft</th>\n",
       "      <th>Cyclone_Gas_Outlet_Temp</th>\n",
       "      <th>Cyclone_Inlet_Draft</th>\n",
       "    </tr>\n",
       "    <tr>\n",
       "      <th>time</th>\n",
       "      <th></th>\n",
       "      <th></th>\n",
       "      <th></th>\n",
       "      <th></th>\n",
       "      <th></th>\n",
       "      <th></th>\n",
       "    </tr>\n",
       "  </thead>\n",
       "  <tbody>\n",
       "    <tr>\n",
       "      <th>2017-01-01 00:00:00</th>\n",
       "      <td>0.749488</td>\n",
       "      <td>0.702192</td>\n",
       "      <td>0.537540</td>\n",
       "      <td>0.288208</td>\n",
       "      <td>0.615879</td>\n",
       "      <td>0.571836</td>\n",
       "    </tr>\n",
       "    <tr>\n",
       "      <th>2017-01-01 00:05:00</th>\n",
       "      <td>0.759509</td>\n",
       "      <td>0.707141</td>\n",
       "      <td>0.548025</td>\n",
       "      <td>0.292363</td>\n",
       "      <td>0.623519</td>\n",
       "      <td>0.563024</td>\n",
       "    </tr>\n",
       "    <tr>\n",
       "      <th>2017-01-01 00:10:00</th>\n",
       "      <td>0.756433</td>\n",
       "      <td>0.711013</td>\n",
       "      <td>0.554203</td>\n",
       "      <td>0.308848</td>\n",
       "      <td>0.626112</td>\n",
       "      <td>0.573868</td>\n",
       "    </tr>\n",
       "    <tr>\n",
       "      <th>2017-01-01 00:15:00</th>\n",
       "      <td>0.756097</td>\n",
       "      <td>0.710353</td>\n",
       "      <td>0.558449</td>\n",
       "      <td>0.300031</td>\n",
       "      <td>0.625958</td>\n",
       "      <td>0.578868</td>\n",
       "    </tr>\n",
       "    <tr>\n",
       "      <th>2017-01-01 00:20:00</th>\n",
       "      <td>0.770246</td>\n",
       "      <td>0.717474</td>\n",
       "      <td>0.560119</td>\n",
       "      <td>0.301201</td>\n",
       "      <td>0.633458</td>\n",
       "      <td>0.577567</td>\n",
       "    </tr>\n",
       "  </tbody>\n",
       "</table>\n",
       "</div>"
      ],
      "text/plain": [
       "                     Cyclone_Inlet_Gas_Temp  Cyclone_Material_Temp  \\\n",
       "time                                                                 \n",
       "2017-01-01 00:00:00                0.749488               0.702192   \n",
       "2017-01-01 00:05:00                0.759509               0.707141   \n",
       "2017-01-01 00:10:00                0.756433               0.711013   \n",
       "2017-01-01 00:15:00                0.756097               0.710353   \n",
       "2017-01-01 00:20:00                0.770246               0.717474   \n",
       "\n",
       "                     Cyclone_Outlet_Gas_draft  Cyclone_cone_draft  \\\n",
       "time                                                                \n",
       "2017-01-01 00:00:00                  0.537540            0.288208   \n",
       "2017-01-01 00:05:00                  0.548025            0.292363   \n",
       "2017-01-01 00:10:00                  0.554203            0.308848   \n",
       "2017-01-01 00:15:00                  0.558449            0.300031   \n",
       "2017-01-01 00:20:00                  0.560119            0.301201   \n",
       "\n",
       "                     Cyclone_Gas_Outlet_Temp  Cyclone_Inlet_Draft  \n",
       "time                                                               \n",
       "2017-01-01 00:00:00                 0.615879             0.571836  \n",
       "2017-01-01 00:05:00                 0.623519             0.563024  \n",
       "2017-01-01 00:10:00                 0.626112             0.573868  \n",
       "2017-01-01 00:15:00                 0.625958             0.578868  \n",
       "2017-01-01 00:20:00                 0.633458             0.577567  "
      ]
     },
     "execution_count": 5,
     "metadata": {},
     "output_type": "execute_result"
    }
   ],
   "source": [
    "data.head()"
   ]
  },
  {
   "cell_type": "code",
   "execution_count": null,
   "metadata": {},
   "outputs": [],
   "source": []
  },
  {
   "cell_type": "code",
   "execution_count": null,
   "metadata": {},
   "outputs": [],
   "source": []
  },
  {
   "cell_type": "code",
   "execution_count": null,
   "metadata": {},
   "outputs": [],
   "source": []
  },
  {
   "cell_type": "code",
   "execution_count": null,
   "metadata": {},
   "outputs": [],
   "source": []
  }
 ],
 "metadata": {
  "kernelspec": {
   "display_name": "Python 3",
   "language": "python",
   "name": "python3"
  },
  "language_info": {
   "codemirror_mode": {
    "name": "ipython",
    "version": 3
   },
   "file_extension": ".py",
   "mimetype": "text/x-python",
   "name": "python",
   "nbconvert_exporter": "python",
   "pygments_lexer": "ipython3",
   "version": "3.12.4"
  }
 },
 "nbformat": 4,
 "nbformat_minor": 2
}
